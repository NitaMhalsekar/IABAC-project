{
 "cells": [
  {
   "cell_type": "markdown",
   "id": "7e352fc5",
   "metadata": {},
   "source": [
    "# -IABAC Certified Data Scientist Project-\n",
    "1. PROJECT ASSIGNMENT:\n",
    "The project assignment is initiated by training partners (R.E.Ps) and candidate gets the project \n",
    "requirements along with data and other related information through email from IABAC™."
   ]
  },
  {
   "cell_type": "markdown",
   "id": "0742d030",
   "metadata": {},
   "source": [
    "# Project name:  Employee Performance Analysis\n",
    "\n",
    "\n",
    "## BUISNESS CASE & GOAL OF THE  PROJECT:   \n",
    "### BASED ON GIVEN FEATURE OF DATASET WE NEED TO PREDICT THE PERFOMANCE RATING OF EMPLOYEE"
   ]
  },
  {
   "cell_type": "markdown",
   "id": "3c35fd35",
   "metadata": {},
   "source": [
    "# TASKS:\n",
    "1. Department wise performances\n",
    "\n",
    "2. Top 3 Important Factors effecting employee performance\n",
    "\n",
    "3. A trained model which can predict the employee performance based on factors as inputs. This will be used to hire employees\n",
    "\n",
    "4. Recommendations to improve the employee performance based on insights from analysis."
   ]
  },
  {
   "cell_type": "markdown",
   "id": "1b1c8521",
   "metadata": {},
   "source": [
    "# Steps Involved in this project:\n",
    "## 1. Importing Libraries\n",
    "## 2. Data Collection\n",
    "## 3. Domain Analysis\n",
    "## 4. Exploratory Data Analysis\n",
    "## 5. Data PreProcessing\n",
    "## 6. Feature Selection\n",
    "## 7. Model Building\n",
    "## 8. Model Evaluation\n",
    "## 9. Conclusion"
   ]
  },
  {
   "cell_type": "markdown",
   "id": "7bb4d260",
   "metadata": {},
   "source": [
    "# 1. PROJECT ASSIGNMENT:\n",
    "The project assignment is initiated by training partners (R.E.Ps) and got the project \n",
    "requirements along with data and other related information through email from IABAC™"
   ]
  },
  {
   "cell_type": "markdown",
   "id": "9d816a7e",
   "metadata": {},
   "source": [
    "# 2.Domain Analysis:\n",
    "---The dataset contains 1200 rows and 28 columns.\n",
    "\n",
    "---In which 19 columns are of integer data type and 8 are object/categorical.\n",
    "    \n",
    "Here is a brief description of each column:\n",
    "\n",
    "EmpNumber: Employee number or ID.\n",
    "\n",
    "Age: Age of the employee.\n",
    "\n",
    "Gender: Gender of the employee.\n",
    "\n",
    "EducationBackground: Education background of the employee.\n",
    "\n",
    "MaritalStatus: Marital status of the employee.\n",
    "\n",
    "EmpDepartment: Department in which the employee works.\n",
    "\n",
    "EmpJobRole: Job role of the employee.\n",
    "\n",
    "BusinessTravelFrequency: Frequency of business travel of the employee.\n",
    "\n",
    "DistanceFromHome: Distance of the employee’s residence from the workplace.\n",
    "\n",
    "EmpEducationLevel: Education level of the employee.\n",
    "\n",
    "EmpEnvironmentSatisfaction: Employee’s satisfaction with the work environment.\n",
    "\n",
    "EmpHourlyRate: Hourly rate of the employee.\n",
    "\n",
    "EmpJobInvolvement: Employee’s involvement in the job.\n",
    "\n",
    "EmpJobLevel: Employee’s job level.\n",
    "\n",
    " EmpJobSatisfaction: Employee’s satisfaction with the job.\n",
    "\n",
    "NumCompaniesWorked: Number of companies the employee has worked for.\n",
    "\n",
    "OverTime: Whether the employee works overtime or not.\n",
    "\n",
    "EmpLastSalaryHikePercent: Percentage increase in the employee’s salary during the last salary hike.\n",
    "\n",
    "EmpRelationshipSatisfaction: Employee’s satisfaction with their relationships at work.\n",
    "\n",
    "TotalWorkExperienceInYears: Total work experience of the employee in years.\n",
    "\n",
    "TrainingTimesLastYear: Number of times the employee was trained last year.\n",
    "\n",
    "EmpWorkLifeBalance: Employee’s work-life balance.\n",
    "\n",
    "ExperienceYearsAtThisCompany: Number of years the employee has worked in the current company.\n",
    "\n",
    "ExperienceYearsInCurrentRole: Number of years the employee has worked in the current role.\n",
    "\n",
    "YearsSinceLastPromotion: Number of years since the employee was last promoted.\n",
    "\n",
    "YearsWithCurrManager: Number of years the employee has worked with the current manager.\n",
    "\n",
    "Attrition: Whether the employee has left the company or not.\n",
    "\n",
    "PerformanceRating(target column): Performance rating of the employee."
   ]
  },
  {
   "cell_type": "markdown",
   "id": "b781e382",
   "metadata": {},
   "source": [
    "# 3.basic checks:\n",
    " Done basic checks to get trends and patterns in data"
   ]
  },
  {
   "cell_type": "markdown",
   "id": "01c7b564",
   "metadata": {},
   "source": [
    "# 4.Exploratory data analysis:\n",
    "    \n",
    "Library Used: Matplotlib & Seaborn\n",
    "\n",
    "Plots Used: Histplot, Lineplot, CountPlot, Barplot,heatmap,pairplot\n",
    "\n",
    "Univariate Analysis: In univariate analysis we get the unique labels of categorical features, as well as get the range & density of numbers.\n",
    "\n",
    "Bivariate Analysis: In bivariate analysis we check the feature relationship with target veriable.\n",
    "\n",
    "Multivariate Analysis: In multivariate Analysis check the relationship between two veriable with respect to the target veriable."
   ]
  },
  {
   "cell_type": "markdown",
   "id": "627b923d",
   "metadata": {},
   "source": [
    "# 5.Data Pre-Processing\n",
    "1.Check Missing Value: There were missing values present in data.\n",
    "\n",
    "2.Encoding: Handel categorical data with the help of Minmax scaler.\n",
    "\n",
    "3.Outlier Handling Some features are contain outliers so we are impute this outlier with the help of IQR because in all features data is not normally distributed\n",
    "\n",
    "4.Feature Transformation: To bring all the values of columns into same range.\n",
    "\n",
    "5.Balancing : Used Resampling method to Balance the imbalanced data so that there will be no biaseness.\n"
   ]
  },
  {
   "cell_type": "markdown",
   "id": "1ad3af82",
   "metadata": {},
   "source": [
    "# 6.Future Selection\n",
    "1.Drop unique and constant feature: Dropping employee number because this is a constant column as well as drop Years Since Last Promotion because we create a new feaure using square root transformation\n",
    "  To perform feature selection ,Used correlation function to detect highly correlated features and drop them later on. Also plotted heatmap to visualize the correlation chart.\n",
    "\n",
    "--- there were only 28 features so not needed to perform PCA.\n",
    "\n"
   ]
  },
  {
   "cell_type": "markdown",
   "id": "e75debe4",
   "metadata": {},
   "source": [
    "# 7.Model Creation and Evaluation\n",
    " \n",
    " 1.the algorithms used to train and predict the model are Logistic Regression,SVR ,Decision Tree,Random Forest,Gradient \n",
    "     Boosting ,XGBoost and Artificial Neural Network(ANN).\n",
    " \n",
    " 2.Used performance metrics like Accuracy ,precision ,Recall ,Confusion metrics and classifiication report\n",
    " \n",
    "        \n",
    "\n",
    "\n"
   ]
  },
  {
   "cell_type": "code",
   "execution_count": null,
   "id": "c85e89d2",
   "metadata": {},
   "outputs": [],
   "source": []
  }
 ],
 "metadata": {
  "kernelspec": {
   "display_name": "Python 3 (ipykernel)",
   "language": "python",
   "name": "python3"
  },
  "language_info": {
   "codemirror_mode": {
    "name": "ipython",
    "version": 3
   },
   "file_extension": ".py",
   "mimetype": "text/x-python",
   "name": "python",
   "nbconvert_exporter": "python",
   "pygments_lexer": "ipython3",
   "version": "3.9.13"
  }
 },
 "nbformat": 4,
 "nbformat_minor": 5
}
